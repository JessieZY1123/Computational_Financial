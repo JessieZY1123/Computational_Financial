{
 "cells": [
  {
   "cell_type": "code",
   "execution_count": 1,
   "id": "b652ad60",
   "metadata": {},
   "outputs": [],
   "source": [
    "import download_fundamental_data\n",
    "import pandas as pd\n",
    "import stock\n",
    "import utils\n",
    "import discount_cf_model\n",
    "import run_DCF\n",
    "import binomial_model\n",
    "from option import *\n",
    "import blackscholes_model"
   ]
  },
  {
   "cell_type": "code",
   "execution_count": 2,
   "id": "42f49e00",
   "metadata": {},
   "outputs": [],
   "source": [
    "# binomial_model._test()"
   ]
  },
  {
   "cell_type": "code",
   "execution_count": 3,
   "id": "4cdbf2cb",
   "metadata": {},
   "outputs": [],
   "source": [
    "# blackscholes_model._test()"
   ]
  },
  {
   "cell_type": "code",
   "execution_count": 4,
   "id": "75f83055",
   "metadata": {},
   "outputs": [],
   "source": [
    "# download_fundamental_data.run()"
   ]
  },
  {
   "cell_type": "code",
   "execution_count": 5,
   "id": "0fd9743a",
   "metadata": {
    "scrolled": false
   },
   "outputs": [],
   "source": [
    "# pd.read_csv(\"./StockUniverseWithData.csv\")"
   ]
  },
  {
   "cell_type": "code",
   "execution_count": 6,
   "id": "7aeb5f0f",
   "metadata": {},
   "outputs": [
    {
     "name": "stdout",
     "output_type": "stream",
     "text": [
      "Ticker: AAPL\n",
      "Total Debt: 113896000000\n",
      "Beta: 1.208152\n",
      "WACC: 0.075\n",
      "Free Cashflow: 73365000000\n",
      "Cash Equivalent: 90943000000\n",
      "Outstanding Shares: 16687599421.831566\n",
      "                      high         low        open       close    volume  \\\n",
      "formatted_date                                                             \n",
      "2021-06-01      125.349998  123.940002  125.080002  124.279999  67637100   \n",
      "2021-06-02      125.239998  124.050003  124.279999  125.059998  59278900   \n",
      "2021-06-03      124.849998  123.129997  124.680000  123.540001  76229200   \n",
      "2021-06-04      126.160004  123.849998  124.070000  125.889999  75169300   \n",
      "2021-06-07      126.320000  124.830002  126.169998  125.900002  71057600   \n",
      "2021-06-08      128.460007  126.209999  126.599998  126.739998  74403800   \n",
      "2021-06-09      127.750000  126.519997  127.209999  127.129997  56877900   \n",
      "2021-06-10      128.190002  125.940002  127.019997  126.110001  71186400   \n",
      "2021-06-11      127.440002  126.099998  126.529999  127.349998  53522400   \n",
      "2021-06-14      130.539993  127.070000  127.820000  130.479996  96906500   \n",
      "2021-06-15      130.600006  129.389999  129.940002  129.639999  62746300   \n",
      "2021-06-16      130.889999  128.460007  130.369995  130.149994  91815000   \n",
      "2021-06-17      132.550003  129.649994  129.800003  131.789993  96721700   \n",
      "\n",
      "                  adjclose  \n",
      "formatted_date              \n",
      "2021-06-01      124.279999  \n",
      "2021-06-02      125.059998  \n",
      "2021-06-03      123.540001  \n",
      "2021-06-04      125.889999  \n",
      "2021-06-07      125.900002  \n",
      "2021-06-08      126.739998  \n",
      "2021-06-09      127.129997  \n",
      "2021-06-10      126.110001  \n",
      "2021-06-11      127.349998  \n",
      "2021-06-14      130.479996  \n",
      "2021-06-15      129.639999  \n",
      "2021-06-16      130.149994  \n",
      "2021-06-17      131.789993  \n"
     ]
    }
   ],
   "source": [
    "stock._test()"
   ]
  },
  {
   "cell_type": "code",
   "execution_count": 7,
   "id": "b1a76620",
   "metadata": {
    "scrolled": false
   },
   "outputs": [],
   "source": [
    "# utils._test()"
   ]
  },
  {
   "cell_type": "code",
   "execution_count": 8,
   "id": "c644012f",
   "metadata": {},
   "outputs": [],
   "source": [
    "# discount_cf_model._test()"
   ]
  },
  {
   "cell_type": "code",
   "execution_count": 9,
   "id": "156667c4",
   "metadata": {
    "scrolled": true
   },
   "outputs": [],
   "source": [
    "# run_DCF.run()"
   ]
  },
  {
   "cell_type": "code",
   "execution_count": 10,
   "id": "a072b46f",
   "metadata": {},
   "outputs": [],
   "source": [
    "# pd.read_csv(\"./StockUniverseValuation.csv\")"
   ]
  },
  {
   "cell_type": "code",
   "execution_count": null,
   "id": "a58a6db1",
   "metadata": {},
   "outputs": [],
   "source": []
  },
  {
   "cell_type": "code",
   "execution_count": null,
   "id": "8de5c8ee",
   "metadata": {},
   "outputs": [],
   "source": []
  },
  {
   "cell_type": "code",
   "execution_count": null,
   "id": "dfd26400",
   "metadata": {},
   "outputs": [],
   "source": []
  },
  {
   "cell_type": "code",
   "execution_count": null,
   "id": "9504a087",
   "metadata": {},
   "outputs": [],
   "source": []
  }
 ],
 "metadata": {
  "kernelspec": {
   "display_name": "Python 3",
   "language": "python",
   "name": "python3"
  },
  "language_info": {
   "codemirror_mode": {
    "name": "ipython",
    "version": 3
   },
   "file_extension": ".py",
   "mimetype": "text/x-python",
   "name": "python",
   "nbconvert_exporter": "python",
   "pygments_lexer": "ipython3",
   "version": "3.8.8"
  }
 },
 "nbformat": 4,
 "nbformat_minor": 5
}
